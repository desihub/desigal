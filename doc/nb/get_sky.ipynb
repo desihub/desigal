{
 "cells": [
  {
   "cell_type": "markdown",
   "id": "6026ca4f-4372-4da6-8aaa-6a4db44cc68f",
   "metadata": {},
   "source": [
    "### Install desigal package (assuming all other desi packages are installed)"
   ]
  },
  {
   "cell_type": "code",
   "execution_count": null,
   "id": "f01be4ba-91ff-4637-b15d-daf260b7c72f",
   "metadata": {},
   "outputs": [],
   "source": [
    "# !pip install --user git+https://github.com/desihub/desigal.git#egg=desigal"
   ]
  },
  {
   "cell_type": "code",
   "execution_count": null,
   "id": "57ee6bc6-69d9-4c4d-a823-d9ace6e1ce7a",
   "metadata": {},
   "outputs": [],
   "source": [
    "%load_ext autoreload\n",
    "%autoreload 2"
   ]
  },
  {
   "cell_type": "code",
   "execution_count": null,
   "id": "4f23d018-c5c8-4712-8841-822d56a09891",
   "metadata": {},
   "outputs": [],
   "source": [
    "import sys\n",
    "\n",
    "import numpy as np\n",
    "import matplotlib.pyplot as plt\n",
    "\n",
    "import desigal.specutils"
   ]
  },
  {
   "cell_type": "markdown",
   "id": "c259dce1-3c4d-43d8-9304-d94134e189b2",
   "metadata": {},
   "source": [
    "### Start with your favorite targets"
   ]
  },
  {
   "cell_type": "code",
   "execution_count": null,
   "id": "5ed3337d-ca8e-479b-8837-ae86c0ffdc9e",
   "metadata": {},
   "outputs": [],
   "source": [
    "targets = [39627652591526038, 39627646576885987, 39627646576885924, 39627640566454233, 39633314146947827, 39633317665965689] \n",
    "spectra = desigal.specutils.get_spectra(targets, release=\"fuji\", n_workers=-1, use_db = True)"
   ]
  },
  {
   "cell_type": "markdown",
   "id": "22f157e9-e736-490e-b569-5c00443dd9b8",
   "metadata": {},
   "source": [
    "# Getting the sky"
   ]
  },
  {
   "cell_type": "code",
   "execution_count": null,
   "id": "221b26a1-56f7-4cdb-9197-a2064e3b52c9",
   "metadata": {
    "scrolled": true,
    "tags": []
   },
   "outputs": [],
   "source": [
    "from pathlib import Path\n",
    "import os\n",
    "\n",
    "sky_flux, sky_mask = desigal.specutils.get_sky(spectra, release=\"fuji\", n_workers=-1)"
   ]
  },
  {
   "cell_type": "markdown",
   "id": "50b81509-5531-439b-8dce-a3152113f46f",
   "metadata": {},
   "source": [
    "### Plot sky spectra along with the error on flux"
   ]
  },
  {
   "cell_type": "code",
   "execution_count": null,
   "id": "6d95e0fe-9f48-4816-9cc9-99ac18e80cc1",
   "metadata": {},
   "outputs": [],
   "source": [
    "spectra_idx = 1\n",
    "\n",
    "plt.figure(figsize=(20,8))\n",
    "for camera in sky_flux:\n",
    "    plt.plot(spectra.wave[camera],sky_flux[camera][spectra_idx])\n",
    "    plt.plot(spectra.wave[camera],100 *(1/np.sqrt(spectra.ivar[camera][spectra_idx])), c=\"k\", ls=\"--\")\n",
    "plt.ylim(0,60)\n",
    "plt.show()"
   ]
  },
  {
   "cell_type": "code",
   "execution_count": null,
   "id": "2578261e-e41e-4aa3-836e-1747d3aa9222",
   "metadata": {},
   "outputs": [],
   "source": [
    "spectra_idx = 5\n",
    "\n",
    "plt.figure(figsize=(20,8))\n",
    "for camera in sky_flux:\n",
    "    plt.plot(spectra.wave[camera],sky_flux[camera][spectra_idx])\n",
    "    plt.plot(spectra.wave[camera],100 *(1/np.sqrt(spectra.ivar[camera][spectra_idx])), c=\"k\", ls=\"--\")\n",
    "plt.ylim(0,60)\n",
    "plt.show()"
   ]
  }
 ],
 "metadata": {
  "kernelspec": {
   "display_name": "DESI master",
   "language": "python",
   "name": "desi-master"
  },
  "language_info": {
   "codemirror_mode": {
    "name": "ipython",
    "version": 3
   },
   "file_extension": ".py",
   "mimetype": "text/x-python",
   "name": "python",
   "nbconvert_exporter": "python",
   "pygments_lexer": "ipython3",
   "version": "3.9.7"
  }
 },
 "nbformat": 4,
 "nbformat_minor": 5
}
