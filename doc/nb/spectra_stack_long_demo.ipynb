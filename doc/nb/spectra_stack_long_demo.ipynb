{
 "cells": [
  {
   "cell_type": "markdown",
   "id": "29ca2840-2531-4c2c-9b41-6c2f61a10e66",
   "metadata": {},
   "source": [
    "### Install desigal package (assuming all other desi packages are installed)"
   ]
  },
  {
   "cell_type": "code",
   "execution_count": null,
   "id": "91e1a20d-8483-4bc2-9672-7dfc6ad00c1d",
   "metadata": {},
   "outputs": [],
   "source": [
    "## Installation for use\n",
    "# !pip install --user git+https://github.com/desihub/desigal.git#egg=desigal"
   ]
  },
  {
   "cell_type": "code",
   "execution_count": null,
   "id": "5c3c65d1-f25c-4e43-a247-ff838c556412",
   "metadata": {},
   "outputs": [],
   "source": [
    "# installation for development\n",
    "# !git clone https://github.com/desihub/desigal\n",
    "# %cd ../..\n",
    "# !pip install --user --editable ."
   ]
  },
  {
   "cell_type": "code",
   "execution_count": null,
   "id": "04c3de70-1671-4719-955e-78df93ae65ce",
   "metadata": {},
   "outputs": [],
   "source": [
    "%load_ext autoreload\n",
    "%autoreload 2"
   ]
  },
  {
   "cell_type": "markdown",
   "id": "6f597c9e-45c2-47e3-8887-e563dbdef7d3",
   "metadata": {},
   "source": [
    "# Demo on stacking DESI spectra\n",
    "\n",
    "This is a long version of the demo which goes through each individual step of the pipeline so that people can tinker with each component. The end user might not always need to use all these steps. For a quick two step version of the stacking pipeline see the notebook `spectra_stack_quick_demo.ipynb`"
   ]
  },
  {
   "cell_type": "code",
   "execution_count": null,
   "id": "0382e4ad-a36c-4f8e-9665-beb175d7a65d",
   "metadata": {},
   "outputs": [],
   "source": [
    "import os\n",
    "import sys\n",
    "from pathlib import Path\n",
    "\n",
    "import numpy as np\n",
    "import matplotlib.pyplot as plt\n",
    "from astropy.table import Table\n",
    "\n",
    "\n",
    "import desispec\n",
    "import desispec.io\n",
    "import desigal.specutils"
   ]
  },
  {
   "cell_type": "markdown",
   "id": "517e29a7-26a6-47ed-a131-d73e1d453c7e",
   "metadata": {},
   "source": [
    "### Select a couple of spectra for the demo"
   ]
  },
  {
   "cell_type": "code",
   "execution_count": null,
   "id": "04003a16-ac41-4c21-853f-f2c65eb2e962",
   "metadata": {},
   "outputs": [],
   "source": [
    "targets = [39627652591526038,  39627646576885987] # LRGS\n",
    "z_targets = [0.3313666995460735, 0.3757204903818251]\n",
    "\n",
    "# targets = [39627646576885924, 39627640566454233] # QSO\n",
    "# z_targets = [0.47741841167195725, 0.7193102969415338]\n",
    "\n",
    "spectra = desigal.specutils.get_spectra(targets, release=\"fuji\", n_workers=-1, use_db = True)"
   ]
  },
  {
   "cell_type": "markdown",
   "id": "31a7f4a7-580d-4bbd-b133-e5ed15a57055",
   "metadata": {},
   "source": [
    "### Unfold the various components of the spectra object"
   ]
  },
  {
   "cell_type": "code",
   "execution_count": null,
   "id": "fb57c4f1-6542-43eb-9b9c-da16e3b85ea2",
   "metadata": {},
   "outputs": [],
   "source": [
    "z_cat = Table({\"TARGETID\":targets,\"Z\":z_targets})\n",
    "flux = spectra.flux\n",
    "wave = spectra.wave\n",
    "ivar = spectra.ivar\n",
    "mask = spectra.mask\n",
    "spec_z = z_cat[\"Z\"]\n",
    "fibermap = spectra.fibermap\n",
    "exp_fibermap = spectra.exp_fibermap"
   ]
  },
  {
   "cell_type": "markdown",
   "id": "9a9de8c1-1e2f-472c-aa14-fc90a986ed3c",
   "metadata": {},
   "source": [
    "# Coadd Cameras\n",
    "\n",
    "This is a faster alternative to `desispec.coaddition.coadd_cameras` but gives identical results.\n",
    "It can handle redshifted spectra and has a vectorized implementation of the coaddition algorithm.\n",
    "Currently this is not a full blown replacement for the `desispec` version as this does not merge fibermaps or does sanity checks.\n",
    "For our specific purpose none of them are important and hence not implemented."
   ]
  },
  {
   "cell_type": "code",
   "execution_count": null,
   "id": "4c695cb8-e4a7-4da2-934a-b1823bf5f7c7",
   "metadata": {},
   "outputs": [],
   "source": [
    "##MASK COADD DOES NOT WORK, FIX THIS!!!!!!!\n",
    "flux_coadd, wave_coadd, ivar_coadd, mask_coadd = desigal.specutils.coadd_cameras(flux, wave,ivar,mask)"
   ]
  },
  {
   "cell_type": "code",
   "execution_count": null,
   "id": "89a3930a-8c0a-4acd-835d-61a8cdc15284",
   "metadata": {},
   "outputs": [],
   "source": [
    "plt.figure(figsize=(20,10))\n",
    "for idx in range(2):\n",
    "    plt.plot(wave_coadd, flux_coadd[idx], c= \"red\")\n",
    "    plt.plot(wave_coadd, 1/np.sqrt(ivar_coadd[idx]), c= \"k\")\n",
    "    plt.title(\"Coadd cameras before redshift correction\")"
   ]
  },
  {
   "cell_type": "markdown",
   "id": "8fb22b43-7d5c-4f39-b34a-f3036664823d",
   "metadata": {},
   "source": [
    "# Do redshift Correction\n",
    "\n",
    "The function takes either a `np.array` or a `dict`"
   ]
  },
  {
   "cell_type": "code",
   "execution_count": null,
   "id": "d3fbb304-7279-4f4f-8df2-64b00992dfb9",
   "metadata": {},
   "outputs": [],
   "source": [
    "flux_dered = desigal.specutils.deredshift(flux_coadd,spec_z, 0 , \"flux\")\n",
    "wave_dered = desigal.specutils.deredshift(wave_coadd,spec_z, 0 , \"wave\")\n",
    "ivar_dered = desigal.specutils.deredshift(ivar_coadd,spec_z, 0 , \"ivar\")"
   ]
  },
  {
   "cell_type": "markdown",
   "id": "a62737da-f7b0-4ef8-805e-49f1e0910e73",
   "metadata": {},
   "source": [
    "Plot observed and de-redshifted flux for one spectra"
   ]
  },
  {
   "cell_type": "code",
   "execution_count": null,
   "id": "b19602bb-9246-4417-8bc5-263f7f39283f",
   "metadata": {},
   "outputs": [],
   "source": [
    "plt.figure(figsize=(20,10))\n",
    "for i in range(2):\n",
    "    plt.plot(wave_dered[i], flux_dered[idx])"
   ]
  },
  {
   "cell_type": "markdown",
   "id": "393f3440-3bff-4bf4-b6a2-e5e3e5d865fc",
   "metadata": {},
   "source": [
    "# Resample to Common Grid"
   ]
  },
  {
   "cell_type": "code",
   "execution_count": null,
   "id": "80cd28e8-582f-40bb-9fea-80ab7370c77f",
   "metadata": {},
   "outputs": [],
   "source": [
    "wave_grid = np.arange(\n",
    "            np.min(wave_dered), np.max(wave_dered), 0.8\n",
    "        )"
   ]
  },
  {
   "cell_type": "code",
   "execution_count": null,
   "id": "e3e98576-b6f9-4444-be52-518ca5d685ba",
   "metadata": {},
   "outputs": [],
   "source": [
    "#available options: linear, sn-cons, flux-cons\n",
    "flux_grid, ivar_grid = desigal.specutils.resample(wave_grid, wave_dered, flux_dered, ivar_dered, fill_val=np.nan, method=\"linear\",n_workers=1)"
   ]
  },
  {
   "cell_type": "code",
   "execution_count": null,
   "id": "ad9a78fd-68fa-4911-b02d-0951051cf9ef",
   "metadata": {},
   "outputs": [],
   "source": [
    "plt.figure(figsize=(20,10))\n",
    "idx = 1\n",
    "plt.plot(wave_dered[idx],flux_dered[idx])\n",
    "plt.plot(wave_grid,flux_grid[idx])"
   ]
  },
  {
   "cell_type": "markdown",
   "id": "2bf2dfcb-0758-46bd-93fb-baa840f62ea9",
   "metadata": {},
   "source": [
    "# Normalize the spectra"
   ]
  },
  {
   "cell_type": "code",
   "execution_count": null,
   "id": "bd1eca44-b520-4744-add7-d285f7781ecd",
   "metadata": {},
   "outputs": [],
   "source": [
    "flux_normed, ivar_normed = desigal.specutils.normalize(wave_grid, flux_grid,ivar_grid, method=\"flux-window\", flux_window=[4000,4050])"
   ]
  },
  {
   "cell_type": "code",
   "execution_count": null,
   "id": "bd222946-2489-48a9-b5b9-9fa5b37ae38f",
   "metadata": {},
   "outputs": [],
   "source": [
    "plt.figure(figsize=(20,10))\n",
    "idx =1\n",
    "\n",
    "plt.plot(wave_grid, flux_normed[idx])\n",
    "plt.plot(wave_grid, flux_grid[idx])\n",
    "\n",
    "plt.plot(wave_grid, 1/np.sqrt(ivar_grid[idx]))\n",
    "plt.plot(wave_grid, 1/np.sqrt(ivar_normed[idx]))\n",
    "plt.title(\"Normalized Spectra\")"
   ]
  },
  {
   "cell_type": "markdown",
   "id": "23db2d6e-822c-4c54-a630-b1cb0e97d466",
   "metadata": {
    "tags": []
   },
   "source": [
    "# Model the IVAR using Sky\n",
    "Feature under development"
   ]
  },
  {
   "cell_type": "markdown",
   "id": "dd68406d-56d7-4d5c-9165-1e54defc0196",
   "metadata": {
    "tags": []
   },
   "source": [
    "### before that lets get the sky"
   ]
  },
  {
   "cell_type": "code",
   "execution_count": null,
   "id": "7c38e76e-0550-4e28-afab-e315fc405406",
   "metadata": {
    "jupyter": {
     "source_hidden": true
    },
    "scrolled": true,
    "tags": []
   },
   "outputs": [],
   "source": [
    "# sky_flux, sky_mask = desigal.get_sky(fibermap = fibermap, exp_fibermap=exp_fibermap)\n",
    "\n",
    "# sky_flux_coadd, wave_coadd, ivar_coadd, mask_coadd = desigal.coadd_cameras(sky_flux, wave, ivar, sky_mask)"
   ]
  },
  {
   "cell_type": "code",
   "execution_count": null,
   "id": "e3870a46-8303-49bf-aee0-52d6ec85afb2",
   "metadata": {
    "jupyter": {
     "source_hidden": true
    },
    "tags": []
   },
   "outputs": [],
   "source": [
    "# sky_flux_coadd, wave_coadd, ivar_coadd, mask_coadd = desigal.coadd_cameras(sky_flux, wave, ivar, sky_mask)"
   ]
  },
  {
   "cell_type": "code",
   "execution_count": null,
   "id": "92003ae6-d47e-4dd8-99b0-a1d57f60b870",
   "metadata": {
    "jupyter": {
     "source_hidden": true
    },
    "tags": []
   },
   "outputs": [],
   "source": [
    "# plt.figure(figsize=(20,10))\n",
    "# for idx in range(2):\n",
    "#     plt.plot(wave_coadd, sky_flux_coadd[idx], ls=\"--\")"
   ]
  },
  {
   "cell_type": "markdown",
   "id": "0ee0cf0f-26d3-4ada-a761-cae65271785b",
   "metadata": {
    "tags": []
   },
   "source": [
    "### Now lets model the error using Sky\n",
    "\n",
    "P.S: Algorithm currently optimized to take sky ivar as input, therefore needs an update to work with sky"
   ]
  },
  {
   "cell_type": "code",
   "execution_count": null,
   "id": "16721b96-2d3d-4971-b969-c7b02b1fbbb4",
   "metadata": {
    "jupyter": {
     "source_hidden": true
    },
    "tags": []
   },
   "outputs": [],
   "source": [
    "# ivar_model= desigal.model_ivar(ivar_coadd, sky_flux_coadd, wave_coadd)"
   ]
  },
  {
   "cell_type": "code",
   "execution_count": null,
   "id": "906e2414-e67e-45c9-b8f2-aa02470a5ab5",
   "metadata": {
    "jupyter": {
     "source_hidden": true
    },
    "tags": []
   },
   "outputs": [],
   "source": [
    "# index = 0\n",
    "\n",
    "# plt.figure(figsize=(15,6))\n",
    "# plt.plot(wave_coadd, 1/np.sqrt(ivar_model[index])+1, label=\"model\")\n",
    "# plt.plot(wave_coadd, 1/np.sqrt(ivar_coadd[index])+1, label =\"observed\")\n",
    "# plt.plot(wave_coadd, ((1/ivar_model[index])-(1/ivar_coadd[index]))/(1/ivar_coadd[index]), label=\"Fractional residual\")\n",
    "# plt.legend(fontsize=10)\n",
    "# plt.ylabel(\"Variance (arbitrary units)\",size=20)\n",
    "# plt.xlabel(\"Wavelength ($\\AA$)\", size=20)\n",
    "# plt.axhline(0, ls=\"--\", c=\"k\")\n",
    "# plt.axhline(-1, ls=\"--\", c=\"k\", alpha=0.5)\n",
    "# plt.axhline(1, ls=\"--\", c=\"k\", alpha=0.5)"
   ]
  },
  {
   "cell_type": "markdown",
   "id": "f046448f-d757-4c16-a0da-1dace8bf0926",
   "metadata": {},
   "source": [
    "# Add the spectra"
   ]
  },
  {
   "cell_type": "code",
   "execution_count": null,
   "id": "2853e680-e37b-4663-a8f2-9ae562c2f7b5",
   "metadata": {},
   "outputs": [],
   "source": [
    "stacked_flux = desigal.specutils.coadd_flux(wave_grid, flux_normed,ivar_normed, method=\"mean\")"
   ]
  },
  {
   "cell_type": "code",
   "execution_count": null,
   "id": "00731711-84d8-4cc6-ba24-b608a03a2aef",
   "metadata": {},
   "outputs": [],
   "source": [
    "plt.figure(figsize=(20,10))\n",
    "plt.plot(wave_grid, stacked_flux)"
   ]
  },
  {
   "cell_type": "markdown",
   "id": "0508e1a8-dff6-420a-babd-518398a39534",
   "metadata": {},
   "source": [
    "# OR\n",
    "# `stack_spectra()`: One Function to Rule Them All"
   ]
  },
  {
   "cell_type": "code",
   "execution_count": null,
   "id": "075d1004-023c-4814-8bbe-07d01cb78a49",
   "metadata": {},
   "outputs": [],
   "source": [
    "stacked_spectra, stack_grid = desigal.specutils.stack_spectra(\n",
    "                                flux= flux,\n",
    "                                wave= wave,\n",
    "                                ivar = ivar,\n",
    "                                mask = mask,\n",
    "                                redshift = spec_z,\n",
    "                                fibermap = fibermap,\n",
    "                                exp_fibermap = exp_fibermap,\n",
    "                                norm_method = \"flux-window\", #\"mean\", \"median\", \"flux-window\"\n",
    "                                norm_flux_window=[4000,4050],\n",
    "                                resample_resolution=0.8,\n",
    "                                resample_method = \"linear\", #\"linear\", \"sn-cons\", \"flux-cons\"    \n",
    "                                stack_method = \"mean\", #median , mean\n",
    "                                n_workers =1\n",
    "                                # weight = \"none\", #TO BE IMPLEMENTED\n",
    "                                # stack_error = \"none\" #bootstrap #TO BE IMPLEMENTED\n",
    "                               )"
   ]
  },
  {
   "cell_type": "code",
   "execution_count": null,
   "id": "e7dedbc3-f0c3-4fab-beb6-4e46d9163093",
   "metadata": {},
   "outputs": [],
   "source": [
    "plt.figure(figsize=(20,10))\n",
    "plt.plot(stack_grid, stacked_spectra)\n",
    "plt.plot(wave_grid, stacked_flux, ls=\"--\", lw=0.5)"
   ]
  }
 ],
 "metadata": {
  "kernelspec": {
   "display_name": "DESI master",
   "language": "python",
   "name": "desi-master"
  },
  "language_info": {
   "codemirror_mode": {
    "name": "ipython",
    "version": 3
   },
   "file_extension": ".py",
   "mimetype": "text/x-python",
   "name": "python",
   "nbconvert_exporter": "python",
   "pygments_lexer": "ipython3",
   "version": "3.9.7"
  }
 },
 "nbformat": 4,
 "nbformat_minor": 5
}
