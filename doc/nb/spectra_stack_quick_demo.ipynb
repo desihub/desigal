{
 "cells": [
  {
   "cell_type": "markdown",
   "id": "e7ccda52-c695-40ca-957f-d95db3d71067",
   "metadata": {},
   "source": [
    "### Install desigal package (assuming all other desi packages are installed)"
   ]
  },
  {
   "cell_type": "code",
   "execution_count": null,
   "id": "63fdb861-a445-40cf-b727-32b377b3806a",
   "metadata": {},
   "outputs": [],
   "source": [
    "# !pip install --user git+https://github.com/desihub/desigal.git#egg=desigal"
   ]
  },
  {
   "cell_type": "code",
   "execution_count": null,
   "id": "1f73ae5a-1e41-4ea8-948f-4373fd3ca4ac",
   "metadata": {},
   "outputs": [],
   "source": [
    "# # installation for development\n",
    "# !git clone https://github.com/desihub/desigal\n",
    "%cd ../..\n",
    "!pip install --user --editable ."
   ]
  },
  {
   "cell_type": "code",
   "execution_count": null,
   "id": "04c3de70-1671-4719-955e-78df93ae65ce",
   "metadata": {},
   "outputs": [],
   "source": [
    "%load_ext autoreload\n",
    "%autoreload 2"
   ]
  },
  {
   "cell_type": "markdown",
   "id": "75221c12-6e74-4cb9-912f-a55b77d1cda0",
   "metadata": {},
   "source": [
    "# Tutorial on stacking DESI spectra\n",
    "This is a quick (two step) tutorial on the DESI spectral stacking pipeline"
   ]
  },
  {
   "cell_type": "code",
   "execution_count": null,
   "id": "0382e4ad-a36c-4f8e-9665-beb175d7a65d",
   "metadata": {},
   "outputs": [],
   "source": [
    "import sys\n",
    "\n",
    "import matplotlib.pyplot as plt\n",
    "\n",
    "import desigal.specutils"
   ]
  },
  {
   "cell_type": "markdown",
   "id": "517e29a7-26a6-47ed-a131-d73e1d453c7e",
   "metadata": {},
   "source": [
    "### Start with your favorite target ids"
   ]
  },
  {
   "cell_type": "code",
   "execution_count": null,
   "id": "04003a16-ac41-4c21-853f-f2c65eb2e962",
   "metadata": {},
   "outputs": [],
   "source": [
    "targets = [39627652591526038, 39627646576885987] # LRGS\n",
    "# targets = [39627646576885924, 39627640566454233] # QSO\n"
   ]
  },
  {
   "cell_type": "markdown",
   "id": "59736d58-9454-4b06-8f5c-6380ecd2b696",
   "metadata": {},
   "source": [
    "### Load the spectra"
   ]
  },
  {
   "cell_type": "code",
   "execution_count": null,
   "id": "abe2d7a3-0b4b-4915-944a-49c176265028",
   "metadata": {},
   "outputs": [],
   "source": [
    "spectra = desigal.specutils.get_spectra(targets, release=\"fuji\", n_workers=-1, use_db = True)"
   ]
  },
  {
   "cell_type": "markdown",
   "id": "f8255c9f-7f37-4f20-b371-895cdc3c6b41",
   "metadata": {},
   "source": [
    "### Pretty Spectra!"
   ]
  },
  {
   "cell_type": "code",
   "execution_count": null,
   "id": "8b181a69-95e9-45f2-96c4-6a06cf5086fb",
   "metadata": {},
   "outputs": [],
   "source": [
    "plt.figure(figsize=(20,10))\n",
    "for idx in range(spectra.num_spectra()):\n",
    "    for cam in spectra.bands:\n",
    "        plt.plot(spectra.wave[cam], spectra.flux[cam][idx], c= f\"C{idx}\")"
   ]
  },
  {
   "cell_type": "markdown",
   "id": "a3ae4e20-0dd2-45ad-a528-c0b01905e8dd",
   "metadata": {},
   "source": [
    "### Stack Spectra"
   ]
  },
  {
   "cell_type": "code",
   "execution_count": null,
   "id": "e8dfe7b5-1bdf-447a-a42f-6d8e69c12dc6",
   "metadata": {},
   "outputs": [],
   "source": [
    "stacked_spectra, wave_grid = desigal.stack_spectra(flux,\n",
    "                                wave,\n",
    "                                ivar,\n",
    "                                mask,\n",
    "                                spec_z,\n",
    "                                fibermap,\n",
    "                                exp_fibermap,\n",
    "                                norm_method = \"median\",\n",
    "                                resample_method = \"linear\",\n",
    "                                stack_method = \"mean\", #median , ivar\n",
    "                                weight = \"none\",\n",
    "                                stack_error = \"none\" #bootstrap\n",
    "                               )"
   ]
  },
  {
   "cell_type": "code",
   "execution_count": null,
   "id": "8696ed4f-7b2b-4721-8cdb-b8be2238d0c0",
   "metadata": {},
   "outputs": [],
   "source": []
  }
 ],
 "metadata": {
  "kernelspec": {
   "display_name": "DESI master",
   "language": "python",
   "name": "desi-master"
  },
  "language_info": {
   "codemirror_mode": {
    "name": "ipython",
    "version": 3
   },
   "file_extension": ".py",
   "mimetype": "text/x-python",
   "name": "python",
   "nbconvert_exporter": "python",
   "pygments_lexer": "ipython3",
   "version": "3.9.7"
  }
 },
 "nbformat": 4,
 "nbformat_minor": 5
}
